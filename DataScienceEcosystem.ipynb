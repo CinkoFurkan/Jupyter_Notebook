{
 "cells": [
  {
   "cell_type": "markdown",
   "id": "6e76d7cb",
   "metadata": {},
   "source": [
    "# Data Science Tools and Ecosystem\n"
   ]
  },
  {
   "cell_type": "markdown",
   "id": "068d7b4c",
   "metadata": {},
   "source": [
    "In this notebook, Data Science Tools and Ecosystem are summarized.\n"
   ]
  },
  {
   "cell_type": "markdown",
   "id": "931346a8",
   "metadata": {},
   "source": [
    "**Objectives:**\n",
    "\n",
    "- List popular languages for Data Science.\n",
    "- List commonly used libraries in Data Science.\n",
    "- Introduce popular Data Science tools.\n",
    "- Provide examples of evaluating arithmetic expressions in Python.\n",
    "- Demonstrate converting minutes to hours using Python.\n"
   ]
  },
  {
   "cell_type": "markdown",
   "id": "640ffb24",
   "metadata": {},
   "source": [
    "Some of the popular languages that Data Scientists use are:\n",
    "\n",
    "1. Python\n",
    "2. R\n",
    "3. SQL\n",
    "4. JavaScript\n",
    "5. Java\n"
   ]
  },
  {
   "cell_type": "markdown",
   "id": "71938df9",
   "metadata": {},
   "source": [
    "Some of the commonly used libraries used by Data Scientists include:\n",
    "\n",
    "1. NumPy\n",
    "2. Pandas\n",
    "3. Scikit-learn\n",
    "4. TensorFlow\n",
    "5. Matplotlib\n"
   ]
  },
  {
   "cell_type": "markdown",
   "id": "e704cf2d",
   "metadata": {},
   "source": [
    "| Data Science Tools       |\n",
    "|--------------------------|\n",
    "| Jupyter Notebook         |\n",
    "| Apache Spark             |\n",
    "| Apache Hadoop            |\n"
   ]
  },
  {
   "cell_type": "markdown",
   "id": "fe3e3ee3",
   "metadata": {},
   "source": [
    "### Below are a few examples of evaluating arithmetic expressions in Python.\n"
   ]
  },
  {
   "cell_type": "markdown",
   "id": "f8e37351",
   "metadata": {},
   "source": [
    "# This is a simple arithmetic expression to multiply then add integers\n",
    "(3 * 4) + 5\n"
   ]
  },
  {
   "cell_type": "code",
   "execution_count": 1,
   "id": "73123101",
   "metadata": {},
   "outputs": [
    {
     "data": {
      "text/plain": [
       "17"
      ]
     },
     "execution_count": 1,
     "metadata": {},
     "output_type": "execute_result"
    }
   ],
   "source": [
    "(3 * 4) + 5"
   ]
  },
  {
   "cell_type": "markdown",
   "id": "5794f5f1",
   "metadata": {},
   "source": [
    "# This will convert 200 minutes to hours by dividing by 60\n"
   ]
  },
  {
   "cell_type": "code",
   "execution_count": 2,
   "id": "c23fed2c",
   "metadata": {},
   "outputs": [
    {
     "data": {
      "text/plain": [
       "3.3333333333333335"
      ]
     },
     "execution_count": 2,
     "metadata": {},
     "output_type": "execute_result"
    }
   ],
   "source": [
    "200 / 60"
   ]
  },
  {
   "cell_type": "markdown",
   "id": "fc36d1b2",
   "metadata": {},
   "source": [
    "## Author\n",
    "Furkan Çinko"
   ]
  },
  {
   "cell_type": "code",
   "execution_count": null,
   "id": "ef0cde86",
   "metadata": {},
   "outputs": [],
   "source": []
  }
 ],
 "metadata": {
  "kernelspec": {
   "display_name": "Python 3 (ipykernel)",
   "language": "python",
   "name": "python3"
  },
  "language_info": {
   "codemirror_mode": {
    "name": "ipython",
    "version": 3
   },
   "file_extension": ".py",
   "mimetype": "text/x-python",
   "name": "python",
   "nbconvert_exporter": "python",
   "pygments_lexer": "ipython3",
   "version": "3.11.7"
  }
 },
 "nbformat": 4,
 "nbformat_minor": 5
}
